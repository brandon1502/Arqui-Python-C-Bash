{
 "cells": [
  {
   "cell_type": "code",
   "execution_count": 1,
   "metadata": {},
   "outputs": [
    {
     "name": "stdout",
     "output_type": "stream",
     "text": [
      "Overwriting lib_array.c\n"
     ]
    }
   ],
   "source": [
    "%%file lib_array.c\n",
    "void funcion_op_array(float *arr, int N)\n",
    "{\n",
    "    for (int i=0;i<N;i++)\n",
    "    {\n",
    "        arr[i] = arr[i]+3.5;\n",
    "    }\n",
    "}"
   ]
  },
  {
   "cell_type": "code",
   "execution_count": 3,
   "metadata": {},
   "outputs": [],
   "source": [
    "! gcc -c lib_array.c\n",
    "! gcc -shared lib_array.o -o lib_array.so"
   ]
  },
  {
   "cell_type": "code",
   "execution_count": 4,
   "metadata": {},
   "outputs": [
    {
     "name": "stdout",
     "output_type": "stream",
     "text": [
      "Arreglo en Python [ 1.1  2.5  3.1  4.1  1.5  6.5 70.2]\n",
      "[ 4.6  6.   6.6  7.6  5.  10.  73.7]\n",
      "Arreglo en C [ 1.1  2.5  3.1  4.1  1.5  6.5 70.2]\n",
      "[ 4.6  6.   6.6  7.6  5.  10.  73.7]\n"
     ]
    }
   ],
   "source": [
    "import numpy as np\n",
    "import ctypes\n",
    "\n",
    "def funcion_array_op(arr,N):\n",
    "    for i in range(N):\n",
    "        arr[i] = arr[i]+3.5\n",
    "\n",
    "if __name__ == '__main__':\n",
    " \n",
    "    lib = ctypes.CDLL('./lib_array.so')\n",
    "\n",
    "    lib.funcion_op_array.argtypes = [np.ctypeslib.ndpointer(dtype = np.float32), ctypes.c_int]\n",
    "\n",
    "    arreglo = [1.1,2.5,3.10,4.1,1.5,6.5,70.2]\n",
    "\n",
    "    array_test = np.asarray(arreglo).astype(np.float32)\n",
    "    array_test_C = np.asarray([1.1,2.5,3.10,4.1,1.5,6.5,70.2]).astype(np.float32)\n",
    "\n",
    "    \n",
    "    print(\"Arreglo en Python\",array_test)\n",
    "    funcion_array_op(array_test,len(array_test))\n",
    "    print(array_test)\n",
    "\n",
    "    print(\"Arreglo en C\",array_test_C)\n",
    "    lib.funcion_op_array(array_test_C,len(array_test_C))\n",
    "    print(array_test_C)"
   ]
  }
 ],
 "metadata": {
  "kernelspec": {
   "display_name": "Python 3",
   "language": "python",
   "name": "python3"
  },
  "language_info": {
   "codemirror_mode": {
    "name": "ipython",
    "version": 3
   },
   "file_extension": ".py",
   "mimetype": "text/x-python",
   "name": "python",
   "nbconvert_exporter": "python",
   "pygments_lexer": "ipython3",
   "version": "3.8.16"
  },
  "orig_nbformat": 4
 },
 "nbformat": 4,
 "nbformat_minor": 2
}
