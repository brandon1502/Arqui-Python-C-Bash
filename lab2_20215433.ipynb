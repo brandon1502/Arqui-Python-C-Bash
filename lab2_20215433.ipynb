{
  "cells": [
    {
      "cell_type": "markdown",
      "metadata": {
        "id": "bYmqjkEfti4J"
      },
      "source": [
        "# Ejercicio\n",
        "\n",
        "El número aúreo es aproximadamente el siguiente valor:\n",
        "\n",
        "$$\n",
        "  \\varphi = 1.618033988749895 \\ldots\n",
        "$$\n",
        "\n",
        "Pero se puede aproximar de la siguiente manera:\n",
        "\n",
        "$$\n",
        "  \\varphi = \\frac{1 + \\sqrt{5}}{2}\n",
        "$$\n",
        "\n",
        "Al mismo tiempo la Sucesión de Fibonacci es la siguiente:\n",
        "\n",
        "$$\n",
        "1,1,2,3,5,8,13,21,34,55,89,144,233,377,610,987,1597 \\ldots\n",
        "$$\n",
        "\n",
        "En su forma recurrente se expresa:\n",
        "\n",
        "$$\n",
        "  f_{0} = 0 \\\\\n",
        "  f_{1} = 1 \\\\\n",
        "  f_{n} = f_{n-1} + f_{n-2} \\ \\forall \\ n \\ge 2\n",
        "$$\n",
        "\n",
        "En el límite:\n",
        "\n",
        "$$\n",
        "  \\varphi = \\lim_{n\\to\\infty} {\\frac{f_{n}}{f_{n-1}}}\n",
        "$$\n",
        "\n",
        "1.   Implementar una función que devuelva el término n-ésimo de la Sucesión de Fibonacci. Imprima los primeros diez términos de la sucesión (calculados a partir de su función).\n",
        "\n",
        "2.   Implementar una función en Python que devuelva el valor del número aúreo, y las aproximaciones del número aúreo a partir de los términos de la Sucesión de Fibonacci. La función debe estar basada en un bucle `for`. Solo debe tener como parámetro la cantidad de iteraciones. Presente su resultado para 10 y 20 elementos, y muestre una gráfica de como cambiaron los valores parciales de la serie con el número de iteraciones.\n",
        "\n",
        "3.   Implementar una función en Python que devuelva el valor del número aúreo, las aproximaciones del número aúreo a partir de los términos de la Sucesión de Fibonacci y la cantidad de iteraciones que fueron necesarias para calcular. La función debe estar basada en un bucle `while`. Solo debe tener como parámetros un valor referente, la precisión y la cantidad tope de iteraciones. Presente su resultado para un valor referente, una precisión de 1e-1, 1e-2, 1e-3 y un máximo de 15 iteraciones.\n",
        "\n",
        "4.   Implementar una función en Python que devuelva el valor de la serie, los valores parciales de la serie y la cantidad de iteraciones que fueron necesarias para calcular. La función debe estar basada en un bucle `while`. Solo debe tener como parámetro la precisión y la cantidad tope de iteraciones. Presente su resultado para una precisión de 1e-1, 1e-2, 1e-3 y un máximo de 15 iteraciones.\n",
        "\n",
        "5.   Repetir los ítems 1, 2, 3 y 4 en C. Justifique los tipos de datos de sus argumentos y del tipo de retorno de la función en sus comentarios. Adicionalmente, su función principal debe mostrar los resultados de todas sus funciones en la consola.\n",
        "\n",
        "La presentación del laboratorio debe ser en un cuaderno de jupyter. Puede emplear Colab, Jupyter Notebook desde servidor, o la extensión de VSCode. No se aceptará ningún otro formato.\n"
      ]
    },
    {
      "cell_type": "code",
      "execution_count": 1,
      "metadata": {},
      "outputs": [],
      "source": [
        "import matplotlib.pyplot as plt"
      ]
    },
    {
      "cell_type": "markdown",
      "metadata": {},
      "source": [
        "### Pregunta 1"
      ]
    },
    {
      "cell_type": "code",
      "execution_count": 2,
      "metadata": {},
      "outputs": [],
      "source": [
        "def fibo(n):\n",
        "    \n",
        "    if(n<2):\n",
        "        return n\n",
        "    \n",
        "\n",
        "    fn_anterior2= 0\n",
        "    fn_anterior1= 1\n",
        "    \n",
        "\n",
        "    for i in range(1,n+1):\n",
        "        \n",
        "        fn  = fn_anterior1+fn_anterior2\n",
        "        fn_anterior1=fn_anterior2\n",
        "        fn_anterior2 =fn\n",
        "        \n",
        "    return fn\n",
        "\n",
        "## Esta funcion devuelve el valor de fibonacci de la posision i tomando como referencia la serie de fibonacci:\n",
        "## 1,1,2,3,5,8,13,21,34,55,89.. por lo tanto fibo(1)=1,fibo(2)=1,fibo(3)=2,fibo(4)=3....\n"
      ]
    },
    {
      "cell_type": "code",
      "execution_count": 3,
      "metadata": {},
      "outputs": [
        {
          "name": "stdout",
          "output_type": "stream",
          "text": [
            "1\n",
            "1\n",
            "2\n",
            "3\n",
            "5\n",
            "8\n",
            "13\n",
            "21\n",
            "34\n",
            "55\n"
          ]
        }
      ],
      "source": [
        "for i in range (1,10+1):\n",
        "    print(fibo(i))"
      ]
    },
    {
      "cell_type": "markdown",
      "metadata": {},
      "source": [
        "### Pregunta 2\n"
      ]
    },
    {
      "cell_type": "code",
      "execution_count": 4,
      "metadata": {},
      "outputs": [],
      "source": [
        "def funcion2(cant_iteraciones):\n",
        "\n",
        "    \n",
        "    aureo_lista = []\n",
        "    for i in range(1,cant_iteraciones+1):\n",
        "        if(i==1):\n",
        "            elemento=0\n",
        "        else:\n",
        "            elemento=fibo(i)/fibo(i-1)\n",
        "\n",
        "        aureo_lista.append(elemento)\n",
        "\n",
        "    return elemento,aureo_lista\n",
        "\n",
        "## Funcion que devuelve la aproximacion del número aúreo  tomando como referencia que:\n",
        "## aúreo(1)=1/1, aúreo(2)=2/1, aúreo(3)=3/2....aúreo(n)=fibo(termino(n))/fibo(n),\n",
        "## por lo tanto aureo(10)=fibo(10)/fibo(9)"
      ]
    },
    {
      "cell_type": "code",
      "execution_count": 5,
      "metadata": {},
      "outputs": [
        {
          "data": {
            "text/plain": [
              "(1.6176470588235294,\n",
              " [0,\n",
              "  1.0,\n",
              "  2.0,\n",
              "  1.5,\n",
              "  1.6666666666666667,\n",
              "  1.6,\n",
              "  1.625,\n",
              "  1.6153846153846154,\n",
              "  1.619047619047619,\n",
              "  1.6176470588235294])"
            ]
          },
          "execution_count": 5,
          "metadata": {},
          "output_type": "execute_result"
        }
      ],
      "source": [
        "fibo1,aproximaciones1=funcion2(10)\n",
        "funcion2(10)"
      ]
    },
    {
      "cell_type": "code",
      "execution_count": 6,
      "metadata": {},
      "outputs": [
        {
          "data": {
            "text/plain": [
              "(1.6180339631667064,\n",
              " [0,\n",
              "  1.0,\n",
              "  2.0,\n",
              "  1.5,\n",
              "  1.6666666666666667,\n",
              "  1.6,\n",
              "  1.625,\n",
              "  1.6153846153846154,\n",
              "  1.619047619047619,\n",
              "  1.6176470588235294,\n",
              "  1.6181818181818182,\n",
              "  1.6179775280898876,\n",
              "  1.6180555555555556,\n",
              "  1.6180257510729614,\n",
              "  1.6180371352785146,\n",
              "  1.618032786885246,\n",
              "  1.618034447821682,\n",
              "  1.6180338134001253,\n",
              "  1.618034055727554,\n",
              "  1.6180339631667064])"
            ]
          },
          "execution_count": 6,
          "metadata": {},
          "output_type": "execute_result"
        }
      ],
      "source": [
        "fibo2,aproximaciones2=funcion2(20)\n",
        "funcion2(20)"
      ]
    },
    {
      "cell_type": "code",
      "execution_count": 7,
      "metadata": {},
      "outputs": [
        {
          "data": {
            "text/plain": [
              "Text(0.5, 1.0, 'Gráfica para 10 elementos de número aúreo')"
            ]
          },
          "execution_count": 7,
          "metadata": {},
          "output_type": "execute_result"
        },
        {
          "data": {
            "image/png": "[encoded data removed]",
            "text/plain": [
              "<Figure size 640x480 with 1 Axes>"
            ]
          },
          "metadata": {},
          "output_type": "display_data"
        }
      ],
      "source": [
        "plt.plot(range(1,len(aproximaciones1)+1), aproximaciones1, '-o')\n",
        "plt.grid(True)\n",
        "plt.title(\"Gráfica para 10 elementos de número aúreo\")"
      ]
    },
    {
      "cell_type": "code",
      "execution_count": 8,
      "metadata": {},
      "outputs": [
        {
          "data": {
            "text/plain": [
              "Text(0.5, 1.0, 'Gráfica para 20 elementos de número aúreo')"
            ]
          },
          "execution_count": 8,
          "metadata": {},
          "output_type": "execute_result"
        },
        {
          "data": {
            "image/png": "[encoded data removed]",
            "text/plain": [
              "<Figure size 640x480 with 1 Axes>"
            ]
          },
          "metadata": {},
          "output_type": "display_data"
        }
      ],
      "source": [
        "plt.plot(range(1,len(aproximaciones2)+1), aproximaciones2, '-o')\n",
        "plt.grid(True)\n",
        "plt.title(\"Gráfica para 20 elementos de número aúreo\")"
      ]
    },
    {
      "cell_type": "markdown",
      "metadata": {},
      "source": [
        "### Pregunta 3"
      ]
    },
    {
      "cell_type": "code",
      "execution_count": 9,
      "metadata": {},
      "outputs": [],
      "source": [
        "def funcion3(referencia,tol,max_iter):\n",
        "\n",
        "    i=1\n",
        "    aureo_lista = []\n",
        "\n",
        "    while(True):\n",
        "        if(i==1):\n",
        "            elemento=0\n",
        "        else:\n",
        "            elemento=fibo(i)/fibo(i-1)\n",
        "\n",
        "        aureo_lista.append(elemento)\n",
        "        error=abs(elemento-referencia)/abs(referencia)\n",
        "\n",
        "        if(error<tol):\n",
        "            break\n",
        "        if(i>max_iter):\n",
        "            break\n",
        "        i +=1\n",
        "        \n",
        "    return elemento,aureo_lista,i"
      ]
    },
    {
      "cell_type": "code",
      "execution_count": 10,
      "metadata": {},
      "outputs": [
        {
          "data": {
            "text/plain": [
              "(1.5, [0, 1.0, 2.0, 1.5], 4)"
            ]
          },
          "execution_count": 10,
          "metadata": {},
          "output_type": "execute_result"
        }
      ],
      "source": [
        "referencia= (1+pow(5,1/2))/2\n",
        "funcion3(referencia,1e-1,15)"
      ]
    },
    {
      "cell_type": "code",
      "execution_count": 11,
      "metadata": {},
      "outputs": [
        {
          "data": {
            "text/plain": [
              "(1.625, [0, 1.0, 2.0, 1.5, 1.6666666666666667, 1.6, 1.625], 7)"
            ]
          },
          "execution_count": 11,
          "metadata": {},
          "output_type": "execute_result"
        }
      ],
      "source": [
        "funcion3(referencia,1e-2,15)"
      ]
    },
    {
      "cell_type": "code",
      "execution_count": 12,
      "metadata": {},
      "outputs": [
        {
          "data": {
            "text/plain": [
              "(1.619047619047619,\n",
              " [0,\n",
              "  1.0,\n",
              "  2.0,\n",
              "  1.5,\n",
              "  1.6666666666666667,\n",
              "  1.6,\n",
              "  1.625,\n",
              "  1.6153846153846154,\n",
              "  1.619047619047619],\n",
              " 9)"
            ]
          },
          "execution_count": 12,
          "metadata": {},
          "output_type": "execute_result"
        }
      ],
      "source": [
        "funcion3(referencia,1e-3,15)"
      ]
    },
    {
      "cell_type": "markdown",
      "metadata": {},
      "source": [
        "### Pregunta 4"
      ]
    },
    {
      "cell_type": "code",
      "execution_count": 13,
      "metadata": {},
      "outputs": [],
      "source": [
        "## Usamos un valor diferente a 1 en \"elemento_old\" para que en la segunda iteracion no se cumpla el condicional\n",
        "## (error<tol), en este caso 0.5\n",
        "def funcion4(tol,max_iter):\n",
        "\n",
        "    i=1\n",
        "    aureo_lista = []\n",
        "    elemento_old=0.5\n",
        "    while(True):\n",
        "        if(i==1):\n",
        "            elemento=0\n",
        "        else:\n",
        "            elemento=fibo(i)/fibo(i-1)\n",
        "\n",
        "        aureo_lista.append(elemento)\n",
        "        error=abs(elemento-elemento_old)/abs(elemento_old)\n",
        "\n",
        "        if(error<tol):\n",
        "            break\n",
        "        if(i>max_iter):\n",
        "            break\n",
        "\n",
        "        if(i>1):\n",
        "            elemento_old=elemento\n",
        "\n",
        "        i +=1\n",
        "        \n",
        "    return elemento,aureo_lista,i"
      ]
    },
    {
      "cell_type": "code",
      "execution_count": 14,
      "metadata": {},
      "outputs": [
        {
          "data": {
            "text/plain": [
              "(1.6, [0, 1.0, 2.0, 1.5, 1.6666666666666667, 1.6], 6)"
            ]
          },
          "execution_count": 14,
          "metadata": {},
          "output_type": "execute_result"
        }
      ],
      "source": [
        "funcion4(1e-1,15)"
      ]
    },
    {
      "cell_type": "code",
      "execution_count": 15,
      "metadata": {},
      "outputs": [
        {
          "data": {
            "text/plain": [
              "(1.6153846153846154,\n",
              " [0, 1.0, 2.0, 1.5, 1.6666666666666667, 1.6, 1.625, 1.6153846153846154],\n",
              " 8)"
            ]
          },
          "execution_count": 15,
          "metadata": {},
          "output_type": "execute_result"
        }
      ],
      "source": [
        "funcion4(1e-2,15)"
      ]
    },
    {
      "cell_type": "code",
      "execution_count": 16,
      "metadata": {},
      "outputs": [
        {
          "data": {
            "text/plain": [
              "(1.6176470588235294,\n",
              " [0,\n",
              "  1.0,\n",
              "  2.0,\n",
              "  1.5,\n",
              "  1.6666666666666667,\n",
              "  1.6,\n",
              "  1.625,\n",
              "  1.6153846153846154,\n",
              "  1.619047619047619,\n",
              "  1.6176470588235294],\n",
              " 10)"
            ]
          },
          "execution_count": 16,
          "metadata": {},
          "output_type": "execute_result"
        }
      ],
      "source": [
        "funcion4(1e-3,15)"
      ]
    },
    {
      "cell_type": "markdown",
      "metadata": {},
      "source": [
        "### Pregunta 5"
      ]
    },
    {
      "cell_type": "code",
      "execution_count": 50,
      "metadata": {},
      "outputs": [
        {
          "name": "stdout",
          "output_type": "stream",
          "text": [
            "Overwriting lab2_20215433.c\n"
          ]
        }
      ],
      "source": [
        "%%file lab2_20215433.c\n",
        "\n",
        "#include <stdlib.h>\n",
        "#include <stdio.h>\n",
        "#include <math.h>\n",
        "\n",
        "\n",
        "// INCISO 1\n",
        "\n",
        "// Funcion que me retorna el fibonacci enésimo\n",
        "// 0 1 1 2 3 5 8 13 21 34 55 84\n",
        "\n",
        "int fibo(int n){\n",
        "\n",
        "    if(n<2){\n",
        "        return n;\n",
        "    }\n",
        "        \n",
        "    int fn_anterior2= 0;\n",
        "    int fn_anterior1= 1;\n",
        "    int fn;\n",
        "\n",
        "    for(int i=1;i<=n;i++){\n",
        "\n",
        "        fn  = fn_anterior1+fn_anterior2;\n",
        "        fn_anterior1=fn_anterior2;\n",
        "        fn_anterior2 =fn;\n",
        "    }  \n",
        "\n",
        "    return fn;\n",
        "}\n",
        "\n",
        "\n",
        "// Funcion para imprimir en forma de lista\n",
        "\n",
        "void item_1(int cant_fibonaccis){\n",
        "\n",
        "    int* lista_fibo = (int*)calloc(cant_fibonaccis, sizeof(int));\n",
        "\n",
        "    for(int i = 1; i <= cant_fibonaccis; i++){\n",
        "\n",
        "        lista_fibo[i-1]= fibo(i);\n",
        "    }\n",
        "    \n",
        "    printf(\"[ \");\n",
        "    for(int i = 0; i<=cant_fibonaccis-1; i++){\n",
        "        printf(\"%d, \", lista_fibo[i]);\n",
        "    }\n",
        "    printf(\"] \\n\");\n",
        "    free(lista_fibo);\n",
        "\n",
        "\n",
        "    ////ESTO ES PARA QUE SALGA BONITO [A,B,C,D,E]\n",
        "\n",
        "    // printf(\"[ \");\n",
        "    // for(int i = 0; i<cant_fibonaccis-1; i++){\n",
        "    //     printf(\"%d, \", lista_fibo[i]);\n",
        "    // }\n",
        "    // printf(\"%d ] \\n\", lista_fibo[cant_fibonaccis-1]);\n",
        "    // free(lista_fibo);\n",
        "\n",
        "\n",
        "}\n",
        "\n",
        "////// INCISO 2\n",
        "\n",
        "double sucesion(int cant_iteraciones, double* lista_aurea){\n",
        "\n",
        "    double elemento;\n",
        "    for(int i=1;i<=cant_iteraciones;i++){\n",
        "\n",
        "        if(i==1){\n",
        "            elemento=0;\n",
        "\n",
        "        }    \n",
        "        else{\n",
        "\n",
        "            elemento=(double)fibo(i)/fibo(i-1);\n",
        "        }\n",
        "\n",
        "        lista_aurea[i-1]=elemento;\n",
        "\n",
        "    }\n",
        "    \n",
        "    return elemento;\n",
        "\n",
        "}\n",
        "\n",
        "void item_2(int cant_iteraciones){\n",
        "\n",
        "    double* lista_aurea = (double*)calloc(cant_iteraciones, sizeof(double));\n",
        "\n",
        "    double elemento = sucesion(cant_iteraciones,lista_aurea);\n",
        "\n",
        "    printf(\"%lf, \", elemento);\n",
        "    printf(\"[ \");\n",
        "    for(int i = 0; i<cant_iteraciones-1; i++){\n",
        "        printf(\"%lf, \", lista_aurea[i]);\n",
        "    }\n",
        "    printf(\"%lf ] \\n\", lista_aurea[cant_iteraciones-1]);\n",
        "    free(lista_aurea);\n",
        "\n",
        "}\n",
        "\n",
        "\n",
        "// INCISO 3\n",
        "\n",
        "double serie_while_1(double referencia, double tol, int max_iter, double* lista_aurea1, int *num_iter){\n",
        "\n",
        "    int i = 1;\n",
        "    double error ;\n",
        "    double elemento;\n",
        "\n",
        "    while(1) {\n",
        "        if(i==1){\n",
        "            elemento=0;\n",
        "        }    \n",
        "        else{\n",
        "            elemento=(double)fibo(i)/fibo(i-1);\n",
        "        }\n",
        "\n",
        "        lista_aurea1[i-1] = elemento;\n",
        "        error = (double)fabs(elemento - referencia) / fabs(referencia);\n",
        "\n",
        "        if (error < tol) {\n",
        "            break;\n",
        "        }\n",
        "\n",
        "        if (error > max_iter) {\n",
        "            break;\n",
        "        }\n",
        "\n",
        "        i++;\n",
        "    }\n",
        "\n",
        "    *num_iter = i;\n",
        "\n",
        "    return elemento;\n",
        "}\n",
        "\n",
        "void item_3(double referencia, double tol, int max_iter){\n",
        "\n",
        "    double* lista_aurea1 = (double*)calloc(max_iter, sizeof(double));\n",
        "    \n",
        "    int num_iter ;\n",
        "    double elemento = serie_while_1(referencia, tol, max_iter, lista_aurea1, &num_iter);\n",
        "    printf(\"%lf, \", elemento);\n",
        "    printf(\"[ \");\n",
        "    for(int i = 0; i < num_iter-1; i++){\n",
        "        printf(\"%lf, \", lista_aurea1[i]);\n",
        "    }\n",
        "    printf(\"%lf ], \", lista_aurea1[num_iter-1]);\n",
        "    printf(\"%d\\n\", num_iter);\n",
        "    free(lista_aurea1);\n",
        "}\n",
        "\n",
        "\n",
        "// INCISO 4\n",
        "\n",
        "double serie_while_2(double tol, int max_iter, double* lista_aurea2, int* num_iter){\n",
        "\n",
        "    int i = 1;\n",
        "    double elemento_old = 0.5;\n",
        "    double error = 0.0;\n",
        "    double elemento;\n",
        "    while(1) {\n",
        "\n",
        "        if(i==1){\n",
        "            elemento=0;\n",
        "        }    \n",
        "        else{\n",
        "            elemento=(double)fibo(i)/fibo(i-1);\n",
        "        }\n",
        "\n",
        "        lista_aurea2[i-1] = elemento;\n",
        "        error = (double)fabs(elemento - elemento_old) / fabs(elemento_old);\n",
        "\n",
        "        if (error < tol) {\n",
        "            break;\n",
        "        }\n",
        "\n",
        "        if (i > max_iter) {\n",
        "            break;\n",
        "        }\n",
        "\n",
        "        if(i>1){\n",
        "            elemento_old = elemento;\n",
        "        }\n",
        "\n",
        "        i++;\n",
        "    }\n",
        "\n",
        "    num_iter[0] = i;\n",
        "\n",
        "    return elemento;\n",
        "}\n",
        "\n",
        "void item_4(double tol, int max_iter){\n",
        "\n",
        "    double* lista_aurea2 = (double*)calloc(max_iter, sizeof(double));\n",
        "    int num_iter ;\n",
        "    double elemento = serie_while_2(tol, max_iter, lista_aurea2, &num_iter);\n",
        "    printf(\"%lf, \", elemento);\n",
        "    printf(\"[ \");\n",
        "    for(int i = 0; i < num_iter-1; i++){\n",
        "        printf(\"%lf, \", lista_aurea2[i]);\n",
        "    }\n",
        "    printf(\"%lf ], \", lista_aurea2[num_iter-1]);\n",
        "    printf(\"%d\\n\", num_iter);\n",
        "    free(lista_aurea2);\n",
        "}\n",
        "\n",
        "\n",
        "\n",
        "\n",
        "int main(){\n",
        "\n",
        "    int n=10;\n",
        "    item_1(n);\n",
        "\n",
        "    int cant_iteraciones1=10;\n",
        "    item_2(cant_iteraciones1);\n",
        "    int cant_iteraciones2=20;\n",
        "    item_2(cant_iteraciones2);\n",
        "\n",
        "    int max_iter;\n",
        "    double referencia = (1+pow(5,(double)1/2))/2;\n",
        "    \n",
        "    max_iter = 15;\n",
        "    double tol = 1e-1;\n",
        "    item_3(referencia, tol, max_iter);\n",
        "\n",
        "    tol = 1e-2;\n",
        "    item_3(referencia, tol, max_iter);\n",
        "\n",
        "    tol = 1e-3;\n",
        "    item_3(referencia, tol, max_iter);\n",
        "\n",
        "    tol = 1e-1;\n",
        "    item_4(tol, max_iter);\n",
        "\n",
        "    tol = 1e-2;\n",
        "    item_4(tol, max_iter);\n",
        "\n",
        "    tol = 1e-3;\n",
        "    item_4(tol, max_iter);\n",
        "\n",
        "    return 0;\n",
        "}\n",
        "\n"
      ]
    },
    {
      "cell_type": "code",
      "execution_count": 51,
      "metadata": {},
      "outputs": [],
      "source": [
        "! gcc lab2_20215433.c -o lab2_20215433"
      ]
    },
    {
      "cell_type": "code",
      "execution_count": 52,
      "metadata": {},
      "outputs": [
        {
          "name": "stdout",
          "output_type": "stream",
          "text": [
            "[ 1, 1, 2, 3, 5, 8, 13, 21, 34, 55, ] \n",
            "1.617647, [ 0.000000, 1.000000, 2.000000, 1.500000, 1.666667, 1.600000, 1.625000, 1.615385, 1.619048, 1.617647 ] \n",
            "1.618034, [ 0.000000, 1.000000, 2.000000, 1.500000, 1.666667, 1.600000, 1.625000, 1.615385, 1.619048, 1.617647, 1.618182, 1.617978, 1.618056, 1.618026, 1.618037, 1.618033, 1.618034, 1.618034, 1.618034, 1.618034 ] \n",
            "1.500000, [ 0.000000, 1.000000, 2.000000, 1.500000 ], 4\n",
            "1.625000, [ 0.000000, 1.000000, 2.000000, 1.500000, 1.666667, 1.600000, 1.625000 ], 7\n",
            "1.619048, [ 0.000000, 1.000000, 2.000000, 1.500000, 1.666667, 1.600000, 1.625000, 1.615385, 1.619048 ], 9\n",
            "1.600000, [ 0.000000, 1.000000, 2.000000, 1.500000, 1.666667, 1.600000 ], 6\n",
            "1.615385, [ 0.000000, 1.000000, 2.000000, 1.500000, 1.666667, 1.600000, 1.625000, 1.615385 ], 8\n",
            "1.617647, [ 0.000000, 1.000000, 2.000000, 1.500000, 1.666667, 1.600000, 1.625000, 1.615385, 1.619048, 1.617647 ], 10\n"
          ]
        }
      ],
      "source": [
        "! ./lab2_20215433"
      ]
    }
  ],
  "metadata": {
    "colab": {
      "provenance": []
    },
    "kernelspec": {
      "display_name": "Python 3",
      "name": "python3"
    },
    "language_info": {
      "codemirror_mode": {
        "name": "ipython",
        "version": 3
      },
      "file_extension": ".py",
      "mimetype": "text/x-python",
      "name": "python",
      "nbconvert_exporter": "python",
      "pygments_lexer": "ipython3",
      "version": "3.10.12"
    }
  },
  "nbformat": 4,
  "nbformat_minor": 0
}
