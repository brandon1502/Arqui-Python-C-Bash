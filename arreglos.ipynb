{
 "cells": [
  {
   "cell_type": "markdown",
   "metadata": {},
   "source": [
    "### Eel truco está en definir tu arreglo vacío e ir llenandolo por cada iteracion con .append\n",
    "### lista=[]"
   ]
  },
  {
   "cell_type": "code",
   "execution_count": 1,
   "metadata": {},
   "outputs": [
    {
     "name": "stdout",
     "output_type": "stream",
     "text": [
      "[2.0, 2.25, 2.37037037037037, 2.44140625, 2.4883199999999994, 2.5216263717421135, 2.546499697040712, 2.565784513950348, 2.5811747917131984, 2.5937424601000023]\n"
     ]
    }
   ],
   "source": [
    "#ARREGLOS/VECTORES EN PYTHON\n",
    "\n",
    "#-------------------------------------------------------------------------------------------\n",
    "#EULER\n",
    "\n",
    "def euler(x):\n",
    "    return pow((1+1/x),x)\n",
    "\n",
    "\n",
    "if __name__ =='__main__':\n",
    "\n",
    "    N=10\n",
    "    lista_numeros =[]\n",
    "\n",
    "    for i in range(1,N+1):\n",
    "        eulerx=euler(i)\n",
    "        lista_numeros.append(eulerx)\n",
    "        \n",
    "    print(lista_numeros)\n",
    "\n",
    "# -------------------------------------------------------------------------------------------\n"
   ]
  },
  {
   "cell_type": "markdown",
   "metadata": {},
   "source": [
    "PARA LA SIGUIENTE SERIE\n",
    "$$\n",
    "  \\sum_{n=1}^{\\infty} \\frac{1}{2^{n}} = \\frac{1}{2} + \\frac{1}{4} + \\frac{1}{8} + \\frac{1}{16} + \\frac{1}{32} + \\cdots\n",
    "$$"
   ]
  },
  {
   "cell_type": "code",
   "execution_count": 5,
   "metadata": {},
   "outputs": [
    {
     "data": {
      "text/plain": [
       "(0.9990234375,\n",
       " [0.5,\n",
       "  0.75,\n",
       "  0.875,\n",
       "  0.9375,\n",
       "  0.96875,\n",
       "  0.984375,\n",
       "  0.9921875,\n",
       "  0.99609375,\n",
       "  0.998046875,\n",
       "  0.9990234375])"
      ]
     },
     "execution_count": 5,
     "metadata": {},
     "output_type": "execute_result"
    }
   ],
   "source": [
    "#-------------------------------------------------------------------------------------------\n",
    "# Sumatoria\n",
    "\n",
    "def serie_for(n):\n",
    "    suma = 0\n",
    "    terminos_parciales = []\n",
    "    for i in range(1, n+1):\n",
    "        suma = suma+(1 / (2 ** i))\n",
    "        terminos_parciales.append(suma)\n",
    "    return suma,terminos_parciales\n",
    "\n",
    "serie_for(10)\n",
    "# -------------------------------------------------------------------------------------------"
   ]
  }
 ],
 "metadata": {
  "kernelspec": {
   "display_name": "Python 3",
   "language": "python",
   "name": "python3"
  },
  "language_info": {
   "codemirror_mode": {
    "name": "ipython",
    "version": 3
   },
   "file_extension": ".py",
   "mimetype": "text/x-python",
   "name": "python",
   "nbconvert_exporter": "python",
   "pygments_lexer": "ipython3",
   "version": "3.10.12"
  },
  "orig_nbformat": 4
 },
 "nbformat": 4,
 "nbformat_minor": 2
}
