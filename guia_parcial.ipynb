{
 "cells": [
  {
   "cell_type": "markdown",
   "metadata": {},
   "source": [
    "## Tipos de datos con signo (signed) en sistemas de 64 bits:\n",
    "\n",
    "char:  -128 a 127   \n",
    "short: -32,768 a 32,767   \n",
    "int:   -2,147,483,648 a 2,147,483,647   \n",
    "long:  -9,223,372,036,854,775,808 a 9,223,372,036,854,775,807   \n",
    "long long: -9,223,372,036,854,775,808 a 9,223,372,036,854,775,807   \n",
    "\n",
    "_______________________________________________________________________________________________________________________________________________________\n",
    "\n",
    "## Tipos de datos sin signo (unsigned) en sistemas de 64 bits:\n",
    "\n",
    "unsigned char: 0 a 255   \n",
    "unsigned short: 0 a 65,535   \n",
    "unsigned int: 0 a 4,294,967,295   \n",
    "unsigned long: 0 a 18,446,744,073,709,551,615   \n",
    "unsigned long long: 0 a 18,446,744,073,709,551,615   \n",
    "\n",
    "## En sistemas de 64 bits:\n",
    "\n",
    "char - 1 byte   \n",
    "short - 2 bytes   \n",
    "int - 4 bytes  \n",
    "long - 8 bytes  \n",
    "long long - 8 bytes  \n",
    "float - 4 bytes  \n",
    "double - 8 bytes   \n",
    "long double - 16 bytes o más (variable)   \n",
    "pointer - 8 bytes (en sistemas de 64 bits)   "
   ]
  },
  {
   "cell_type": "markdown",
   "metadata": {},
   "source": [
    "## Ctypes para escalares"
   ]
  },
  {
   "cell_type": "markdown",
   "metadata": {},
   "source": [
    "1) Realizar la funcion en C           \n",
    "       %%file funcion1C.c  \n",
    "       \n",
    "2) Crear el archivo .so     \n",
    "       ! gcc -shared -o funcion1C.so funcion1C.c  \n",
    "\n",
    "3) Cargar biblioteca compartida   \n",
    "       lib1 = ctypes.CDLL('./funcion1C.so')  \n",
    "\n",
    "4) Especificamos los tipos de argumentos y el tipo de respuesta dependiendo al tipo de dato:   \n",
    "       lib1.sumatoria1.argtypes = [ctypes.c_uint,ctypes.c_float,ctypes.c_float]   \n",
    "       lib1.sumatoria1.restype = ctypes.c_float  \n",
    "       \n",
    "\n",
    "       char                 -> ctypes.c_char  \n",
    "       short                -> ctypes.c_short  \n",
    "       int                  -> ctypes.c_int       \n",
    "       long                 -> ctypes.c_long  \n",
    "       long long            -> ctypes.c_long  \n",
    "       float                -> ctypes.c_float  \n",
    "       double               -> ctypes.c_double  \n",
    "       unsigned char        -> ctypes.c_byte\n",
    "       unsigned short       -> ctpes.c_ushort\n",
    "       unsigned int         -> ctpes.c_uint\n",
    "       unsigned long        -> ctpes.c_ulong\n",
    "       unsigned long long:  -> ctpes.c_ulonglong\n",
    "\n",
    "5) Listo   \n",
    "       Solo nos queda usar las funciones como resultado1= lib1.sumatoria1(1000,5,4.2)\n",
    "\n",
    "\n"
   ]
  },
  {
   "cell_type": "markdown",
   "metadata": {},
   "source": [
    "## Ctypes para arreglos\n",
    "\n",
    "1) Realizar la funcion en C           \n",
    "       %%file funciones.c  \n",
    "       \n",
    "2) Crear el archivo .so     \n",
    "       ! gcc -shared -o funciones.so funciones.c  \n",
    "       --------------------------------------------    \n",
    "       !gcc -c funciones.c -lm   \n",
    "       !gcc -shared funciones.o -o funciones.so   \n",
    "3) Funcion ctypes que devuelva la funcion en c configurada para usarse\n",
    "\n",
    "       import ctypes   \n",
    "       import numpy as np    \n",
    "       def ctypes_normalizar_vector():   \n",
    "              lib=ctypes.CDLL('./funciones.so')  \n",
    "              ##DEFINIR LOS ARGUMENTOS DE ENTRADA, EN ESTE CASO ARREGLOS VAN CON np.    \n",
    "\n",
    "              lib.normalizar_vector.argtypes=[np.ctypeslib.ndpointer(dtype=np.float32), np.ctypeslib.ndpointer(dtype=np.float32)]   \n",
    "\n",
    "              return lib.normalizar_vector   \n",
    "\n",
    "3.1) La instancia:   \n",
    "       ctypes_normalizar_vector=ctypes_normalizar_vector()   \n",
    "       Entonces apra usar la funcion solo se debe llamar a ctypes_normalizar_vector(argumentos)\n",
    "\n",
    "4) Especificamos los tipos de argumentos y el tipo de respuesta dependiendo al tipo de dato:   \n",
    "\n",
    "       tipo float  -> np.ctypeslib.ndpointer(dtype=np.float32)\n",
    "       tipo double -> np.ctypeslib.ndpointer(dtype=np.double)  \n",
    "       \n",
    "       \n",
    "\n",
    "5) Listo   \n",
    "       Solo nos queda usar las funciones como resultado1= lib1.sumatoria1(1000,5,4.2)\n"
   ]
  },
  {
   "cell_type": "code",
   "execution_count": 11,
   "metadata": {},
   "outputs": [
    {
     "name": "stdout",
     "output_type": "stream",
     "text": [
      "[0. 0. 0. 0. 0. 0. 0. 0. 0. 0. 0. 0. 0. 0. 0.]\n"
     ]
    }
   ],
   "source": [
    "#Crear un arreglo vacio\n",
    "\n",
    "import numpy as np\n",
    "\n",
    "arreglo_ord = np.zeros(15,dtype=np.float32)\n",
    "\n",
    "print(arreglo_ord)"
   ]
  }
 ],
 "metadata": {
  "kernelspec": {
   "display_name": "Python 3",
   "language": "python",
   "name": "python3"
  },
  "language_info": {
   "codemirror_mode": {
    "name": "ipython",
    "version": 3
   },
   "file_extension": ".py",
   "mimetype": "text/x-python",
   "name": "python",
   "nbconvert_exporter": "python",
   "pygments_lexer": "ipython3",
   "version": "3.8.16"
  }
 },
 "nbformat": 4,
 "nbformat_minor": 2
}
