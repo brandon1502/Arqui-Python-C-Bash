{
 "cells": [
  {
   "cell_type": "markdown",
   "metadata": {},
   "source": [
    "## Guía para Python Y C\n",
    "\n",
    "<span style=\"color: red;\"><strong>---------------------------------------------------------------------------------------------------------------------</strong></span>\n",
    "_____________________________________________________________________________________________________________________________________"
   ]
  },
  {
   "cell_type": "markdown",
   "metadata": {},
   "source": [
    "\n",
    "<span style=\"color: #00008B; font-weight: bold; font-size: 20px;\">█ PARA PYTHON</span>"
   ]
  },
  {
   "cell_type": "markdown",
   "metadata": {},
   "source": [
    "Listas: \n",
    "\n",
    "Estructura de datos que se utiliza para almacenar una colección ordenada de elementos.   \n",
    "Los elementos en una lista pueden ser de diferentes tipos de datos, como números, cadenas, objetos, u otros."
   ]
  },
  {
   "cell_type": "code",
   "execution_count": 77,
   "metadata": {},
   "outputs": [
    {
     "name": "stdout",
     "output_type": "stream",
     "text": [
      "[1, 3, 5, 100, 9] \n",
      "\n",
      "[10, 2, 3, 4, 5, 6, 'HOLA']\n"
     ]
    }
   ],
   "source": [
    "#Modificar el elemento \"n\" de la lista\n",
    "\n",
    "lista1 = [1, 3, 5, 7, 9]\n",
    "lista2 = [1,2,3,4,5,6,\"HOLA\"]\n",
    "\n",
    "lista1[3] = 100\n",
    "print(lista1,\"\\n\")\n",
    "\n",
    "\n",
    "lista2[0] = 10\n",
    "print(lista2)"
   ]
  },
  {
   "cell_type": "code",
   "execution_count": 92,
   "metadata": {},
   "outputs": [
    {
     "name": "stdout",
     "output_type": "stream",
     "text": [
      "[1, 3, 5, 7, 9, 50] \n",
      "\n",
      "[1, 2, 3, 4, 5, 6, 'HOLA', 'CHAU']\n"
     ]
    }
   ],
   "source": [
    "#Agregar elementos\n",
    "\n",
    "lista1 = [1, 3, 5, 7, 9]\n",
    "lista2 = [1,2,3,4,5,6,\"HOLA\"]\n",
    "\n",
    "lista1.append(50)\n",
    "print(lista1,\"\\n\")\n",
    "\n",
    "lista2.append(\"CHAU\")\n",
    "print(lista2)\n"
   ]
  },
  {
   "cell_type": "code",
   "execution_count": 93,
   "metadata": {},
   "outputs": [
    {
     "name": "stdout",
     "output_type": "stream",
     "text": [
      "5\n",
      "7\n"
     ]
    }
   ],
   "source": [
    "#Para ver la longitud de una lista\n",
    "\n",
    "lista1 = [1, 3, 5, 7, 9]\n",
    "lista2 = [1,2,3,4,5,6,\"HOLA\"]\n",
    "\n",
    "l1=len(lista1)\n",
    "l2=len(lista2)\n",
    "\n",
    "print(l1)\n",
    "\n",
    "print(l2)"
   ]
  },
  {
   "cell_type": "code",
   "execution_count": 105,
   "metadata": {},
   "outputs": [
    {
     "name": "stdout",
     "output_type": "stream",
     "text": [
      "[1, 4, 5, 12, 14, 57, 58, 76, 85, 89]\n"
     ]
    }
   ],
   "source": [
    "#Ordenar valores de menor a mayor\n",
    "\n",
    "lista1=[89,57,14,58,76,12,1,4,5,85]\n",
    "\n",
    "lista_ordenada=sorted(lista1)\n",
    "\n",
    "print(lista_ordenada)"
   ]
  },
  {
   "cell_type": "code",
   "execution_count": 190,
   "metadata": {},
   "outputs": [
    {
     "name": "stdout",
     "output_type": "stream",
     "text": [
      "Tiempo en realizar la funcion euler(N):  6.178000148793217e-06\n"
     ]
    }
   ],
   "source": [
    "# Para ver el tiempo que se tarda en realizar una operacion\n",
    "\n",
    "import time\n",
    "\n",
    "def euler (x):\n",
    "    return pow((1+1/x),x)\n",
    "\n",
    "if __name__ == '__main__':\n",
    "\n",
    "    N=1000\n",
    "    tic1 = time.perf_counter()\n",
    "    euler(N)\n",
    "    toc1 = time.perf_counter()\n",
    "\n",
    "    tiempo= (toc1-tic1)\n",
    "\n",
    "    print(\"Tiempo en realizar la funcion euler(N): \",tiempo)\n",
    "\n"
   ]
  },
  {
   "cell_type": "code",
   "execution_count": 257,
   "metadata": {},
   "outputs": [
    {
     "name": "stdout",
     "output_type": "stream",
     "text": [
      "Lista1:  [0, 1, 2, 3, 4, 5, 6, 7, 8, 9]\n",
      "Lista2:  [1, 2, 3, 4, 5, 6, 7, 8, 9, 10, 11, 12, 13, 14, 15, 16, 17, 18, 19]\n",
      "Lista3:  [1, 2, 3, 4, 5, 6, 7, 8, 9, 10, 11, 12, 13, 14, 15]\n",
      "Lista4:  [1, 4, 7, 10, 13, 16]\n"
     ]
    }
   ],
   "source": [
    "#COMO USAR FOR\n",
    "\n",
    "lista1=[]\n",
    "\n",
    "for i in range(10):\n",
    "\n",
    "    lista1.append(i)\n",
    "print(\"Lista1: \",lista1)\n",
    "\n",
    "\n",
    "lista2=[]\n",
    "\n",
    "for i in range(1,20):\n",
    "\n",
    "    lista2.append(i)\n",
    "print(\"Lista2: \",lista2)\n",
    "\n",
    "\n",
    "lista3=[]\n",
    "\n",
    "for i in range(1,15+1):\n",
    "\n",
    "    lista3.append(i)\n",
    "print(\"Lista3: \",lista3)\n",
    "\n",
    "#For con separacion de 3\n",
    "lista4=[]\n",
    "N= 16\n",
    "for i in range(1,N+1,3):\n",
    "\n",
    "    lista4.append(i)\n",
    "\n",
    "print(\"Lista4: \",lista4)"
   ]
  },
  {
   "cell_type": "code",
   "execution_count": 4,
   "metadata": {},
   "outputs": [
    {
     "name": "stdout",
     "output_type": "stream",
     "text": [
      "[4.438000360096339e-06, 5.590000000665896e-07, 3.8700000004610047e-07, 3.790000846493058e-07, 3.7400059227366e-07, 3.9900078263599426e-07, 3.9499991544289514e-07, 3.7799964047735557e-07, 3.8100006349850446e-07, 4.0099985199049115e-07] \n",
      "\n",
      "[3.3139995139208622e-06, 5.020001481170766e-07, 4.120001904084347e-07, 3.8700000004610047e-07, 3.7800054997205734e-07, 3.9600035961484537e-07, 4.060002538608387e-07, 4.0699978853808716e-07, 4.029998308396898e-07, 4.210005499771796e-07] \n",
      "\n",
      "[7.959997674333863e-07, 4.599996827892028e-07, 4.1300063458038494e-07, 3.959994501201436e-07, 3.929999365936965e-07, 3.9200040191644803e-07, 3.939994712709449e-07, 3.910008672391996e-07, 2.1380001271609217e-06, 1.0630001270328648e-06] \n",
      "\n",
      "[6.22999323240947e-07, 4.180001269560307e-07, 3.6599976738216355e-07, 3.2200023269979283e-07, 3.3700052881613374e-07, 3.380000634933822e-07, 3.289997039246373e-07, 3.229997673770413e-07, 3.6599976738216355e-07, 3.410004865145311e-07] \n",
      "\n",
      "18\n",
      "14\n",
      "168\n",
      "4792\n",
      "147\n",
      "3\n"
     ]
    }
   ],
   "source": [
    "# Para ver el tiempo que se tarda en realizar una operacion y almacenar lo tiempos en un vector\n",
    "\n",
    "import time\n",
    "\n",
    "def euler (x):\n",
    "    return pow((1+1/x),x)\n",
    "\n",
    "if __name__ == '__main__':\n",
    "\n",
    "    lista_tiempos1=[]\n",
    "    lista_tiempos2=[]\n",
    "    lista_tiempos3=[]\n",
    "    lista_tiempos4=[]\n",
    "    N=10\n",
    "\n",
    "    #Primera forma\n",
    "    for i in range(N):\n",
    "\n",
    "        tic1 = time.perf_counter()\n",
    "        euler(N)\n",
    "        toc1 = time.perf_counter()\n",
    "\n",
    "        lista_tiempos1.append(toc1-tic1)\n",
    "\n",
    "    print(lista_tiempos1,\"\\n\")\n",
    "\n",
    "    #Segunda forma\n",
    "    for i in range(1,N+1):\n",
    "\n",
    "        tic1 = time.perf_counter()\n",
    "        euler(N)\n",
    "        toc1 = time.perf_counter()\n",
    "\n",
    "        lista_tiempos2.append(toc1-tic1)\n",
    "\n",
    "    print(lista_tiempos2,\"\\n\")\n",
    "\n",
    "    #Tercera forma\n",
    "\n",
    "    i=1\n",
    "    while(i<= N):\n",
    "\n",
    "        tic1 = time.perf_counter()\n",
    "        euler(N)\n",
    "        toc1 = time.perf_counter()\n",
    "\n",
    "        lista_tiempos3.append(toc1-tic1)\n",
    "        i += 1\n",
    "       \n",
    "    print(lista_tiempos3,\"\\n\") \n",
    "\n",
    "    #Cuarta forma\n",
    "    i=1\n",
    "    while(True):\n",
    "        \n",
    "\n",
    "        tic1 = time.perf_counter()\n",
    "        euler(N)\n",
    "        toc1 = time.perf_counter()\n",
    "\n",
    "        lista_tiempos4.append(toc1-tic1)\n",
    "        i += 1\n",
    "\n",
    "        if(i>N):\n",
    "            break\n",
    "       \n",
    "    print(lista_tiempos4,\"\\n\")  \n",
    "\n",
    "    ##RECORRER VALORES EN UN RANGO\n",
    "\n",
    "    lista10 = [18, 14, 168, 4792, 147, 3]\n",
    "\n",
    "    for k in lista10:\n",
    "        print(k)\n",
    "\n",
    "    \n",
    "\n",
    "\n"
   ]
  },
  {
   "cell_type": "code",
   "execution_count": 12,
   "metadata": {},
   "outputs": [
    {
     "data": {
      "text/plain": [
       "8.0"
      ]
     },
     "execution_count": 12,
     "metadata": {},
     "output_type": "execute_result"
    }
   ],
   "source": [
    "#USO DE MEDIANa EN PYTHON\n",
    "import statistics\n",
    "\n",
    "time= [1,3,5,7,9,11,57,10]\n",
    "\n",
    "\n",
    "statistics.median(time)"
   ]
  },
  {
   "cell_type": "code",
   "execution_count": 306,
   "metadata": {},
   "outputs": [
    {
     "data": {
      "text/plain": [
       "<matplotlib.legend.Legend at 0x7f56f9caf1c0>"
      ]
     },
     "execution_count": 306,
     "metadata": {},
     "output_type": "execute_result"
    },
    {
     "data": {
      "image/png": "[encoded data removed]",
      "text/plain": [
       "<Figure size 640x480 with 1 Axes>"
      ]
     },
     "metadata": {},
     "output_type": "display_data"
    }
   ],
   "source": [
    "#Graficas\n",
    "\n",
    "import matplotlib.pyplot as plt\n",
    "\n",
    "plt.plot(lista_tiempos1)\n",
    "plt.plot(lista_tiempos2)\n",
    "plt.plot(lista_tiempos3)\n",
    "plt.plot(lista_tiempos4)\n",
    "plt.legend([\"Time lista1\", \"Time lista2\", \"Time lista3\", \"Time lista4\"])\n"
   ]
  },
  {
   "cell_type": "markdown",
   "metadata": {},
   "source": [
    "Cómo usar Ctypes, funciones escalares\n",
    "\n",
    "1) Escribir la funcion en C, si es necesario usar, #include <math.h>, para pow\n",
    "2) Crear el archivo .so\n",
    "3) Para usarla en python:  \n",
    "    3.1) Cargar la biblioteca compartida  \n",
    "    3.2) Especificamos los tipos de argumento de la funcion creada en C(funcion_nombre) y el tipo de retorno"
   ]
  },
  {
   "cell_type": "code",
   "execution_count": 298,
   "metadata": {},
   "outputs": [
    {
     "name": "stdout",
     "output_type": "stream",
     "text": [
      "Overwriting funcion.c\n"
     ]
    }
   ],
   "source": [
    "%%file funcion.c\n",
    "\n",
    "// 1) Escribir la funcion en C, si es necesario usar la libreria para pow math.h\n",
    "\n",
    "#include <math.h>\n",
    "\n",
    "\n",
    "double funcion_nombre(int N,double a,double b){ \n",
    "\n",
    "double suma=0.0;\n",
    "\n",
    "    for(int i=1;i<=N;i++){\n",
    "        \n",
    "        double numerador= pow(a,b);\n",
    "        double denominador= pow(i,3)+3*i +1;\n",
    "\n",
    "        suma= suma + numerador/denominador;\n",
    "\n",
    "    }\n",
    "\n",
    "    return suma;\n",
    "\n",
    "}\n"
   ]
  },
  {
   "cell_type": "code",
   "execution_count": 299,
   "metadata": {},
   "outputs": [],
   "source": [
    "## 2) Crear el archivo .so\n",
    "\n",
    "! gcc -fPIC -shared funcion.c -o funcion.so"
   ]
  },
  {
   "cell_type": "code",
   "execution_count": 303,
   "metadata": {},
   "outputs": [],
   "source": [
    "import ctypes\n",
    "## 3) Cargamos la biblioteca compartida\n",
    "\n",
    "lib1 = ctypes.CDLL('./funcion.so')\n",
    "\n",
    "## 4) Especificamos los tipos de argumento de la funcion creada en C(funcion_nombre) y el tipo de retorno\n",
    "\n",
    "#lib1.<NombreDeLaFuncion>.xxxxtypes = [ctypes.c_int, ctypes.c_double, ctypes.c_double]\n",
    "\n",
    "lib1.funcion_nombre.argtypes = [ctypes.c_int,ctypes.c_double,ctypes.c_double]\n",
    "lib1.funcion_nombre.restype = ctypes.c_double\n",
    "\n"
   ]
  },
  {
   "cell_type": "code",
   "execution_count": 304,
   "metadata": {},
   "outputs": [
    {
     "name": "stdout",
     "output_type": "stream",
     "text": [
      "0.24081597314253553\n"
     ]
    }
   ],
   "source": [
    "## Para usar la funcion se debe invocar con su libreria correspondiente\n",
    "\n",
    "Resultado1= lib1.funcion_nombre(1000,3.5,-0.25)\n",
    "\n",
    "print(Resultado1)\n",
    "\n"
   ]
  },
  {
   "cell_type": "markdown",
   "metadata": {},
   "source": [
    "<span style=\"color: #00008B; font-weight: bold; font-size: 20px;\">█ Para C</span>"
   ]
  },
  {
   "cell_type": "code",
   "execution_count": 391,
   "metadata": {},
   "outputs": [
    {
     "name": "stdout",
     "output_type": "stream",
     "text": [
      "Overwriting valor_referencia.c\n"
     ]
    }
   ],
   "source": [
    "%%file valor_referencia.c\n",
    "\n",
    "//REFERENCIA \n",
    "\n",
    "#include <stdio.h>\n",
    "\n",
    "void calcularCuadrado(int numero, int *resultado) {\n",
    "    *resultado = numero * numero;\n",
    "}\n",
    "\n",
    "int main() {\n",
    "    int numero = 5;\n",
    "    int resultado;\n",
    "\n",
    "    calcularCuadrado(numero, &resultado);\n",
    "\n",
    "    printf(\"El cuadrado de %d es %d\\n\", numero, resultado);\n",
    "\n",
    "    return 0;\n",
    "}\n"
   ]
  },
  {
   "cell_type": "code",
   "execution_count": 392,
   "metadata": {},
   "outputs": [
    {
     "name": "stdout",
     "output_type": "stream",
     "text": [
      "El cuadrado de 5 es 25\n"
     ]
    }
   ],
   "source": [
    "! gcc valor_referencia.c -o valor_referencia -lm\n",
    "!./valor_referencia"
   ]
  },
  {
   "cell_type": "markdown",
   "metadata": {},
   "source": [
    "Arreglos en C"
   ]
  },
  {
   "cell_type": "code",
   "execution_count": 357,
   "metadata": {},
   "outputs": [
    {
     "name": "stdout",
     "output_type": "stream",
     "text": [
      "Overwriting euler0.c\n"
     ]
    }
   ],
   "source": [
    "%%file euler0.c\n",
    "\n",
    "#include <stdio.h>\n",
    "#include <stdlib.h>\n",
    "#include <math.h>\n",
    "\n",
    "double euler(int x){\n",
    "\n",
    "    return pow((1+1.0/x),x);\n",
    "}\n",
    "\n",
    "\n",
    "int main(){\n",
    "\n",
    "    int N=10;\n",
    "    double vector[N];\n",
    "\n",
    "    for(int i=1;i<=N;i++){\n",
    "\n",
    "        vector[i-1]=euler(i);\n",
    "        printf(\"%.2lf, \",vector[i-1]);\n",
    "\n",
    "    }\n",
    "    printf(\"\\n\");\n",
    "    printf(\"%.2lf\",vector[4]);\n",
    "\n",
    "}"
   ]
  },
  {
   "cell_type": "code",
   "execution_count": 358,
   "metadata": {},
   "outputs": [
    {
     "name": "stdout",
     "output_type": "stream",
     "text": [
      "2.00, 2.25, 2.37, 2.44, 2.49, 2.52, 2.55, 2.57, 2.58, 2.59, \n",
      "2.49"
     ]
    }
   ],
   "source": [
    "! gcc euler0.c -o euler0 -lm\n",
    "!./euler0 "
   ]
  },
  {
   "cell_type": "code",
   "execution_count": 323,
   "metadata": {},
   "outputs": [
    {
     "name": "stdout",
     "output_type": "stream",
     "text": [
      "Overwriting euler1.c\n"
     ]
    }
   ],
   "source": [
    "%%file euler1.c\n",
    "\n",
    "#include <stdio.h>\n",
    "#include <stdlib.h>\n",
    "#include <math.h>\n",
    "\n",
    "double euler (int x){   \n",
    "    \n",
    "    return pow(1+1/(double)x,(double)x);\n",
    "}\n",
    "\n",
    "int main()\n",
    "{\n",
    "    int N = 10;\n",
    "\n",
    "    \n",
    "    //double *vector = (double *)calloc(N,sizeof(double));\n",
    "    double *vector = (double *)malloc(N*sizeof(double));\n",
    "    \n",
    "    printf (\"[\");\n",
    "    for (int i = 1; i<=N;i++)\n",
    "    {\n",
    "        vector[i-1] = euler(i);\n",
    "        \n",
    "        printf(\"%.2lf,\",vector[i-1]);\n",
    "    }\n",
    "    printf (\"] \\n\");\n",
    "    free (vector);\n",
    "    return 0;\n",
    "}\n"
   ]
  },
  {
   "cell_type": "code",
   "execution_count": 326,
   "metadata": {},
   "outputs": [
    {
     "name": "stdout",
     "output_type": "stream",
     "text": [
      "[2.00,2.25,2.37,2.44,2.49,2.52,2.55,2.57,2.58,2.59,] \n"
     ]
    }
   ],
   "source": [
    "! gcc euler1.c -o euler1 -lm\n",
    "!./euler1 "
   ]
  },
  {
   "cell_type": "code",
   "execution_count": 387,
   "metadata": {},
   "outputs": [
    {
     "name": "stdout",
     "output_type": "stream",
     "text": [
      "Overwriting euler2.c\n"
     ]
    }
   ],
   "source": [
    "%%file euler2.c\n",
    "\n",
    "#include <stdio.h>\n",
    "#include <stdlib.h>\n",
    "#include <math.h>\n",
    "\n",
    "double euler (int x){   \n",
    "    \n",
    "    return pow(1+1/(double)x,(double)x);\n",
    "}\n",
    "\n",
    "double funcion_vector(double *arreglo, int N){\n",
    "\n",
    "    for(int i=0;i<N;i++){\n",
    "\n",
    "        arreglo[i]= euler(i+1);\n",
    "\n",
    "    }\n",
    "\n",
    "}\n",
    "\n",
    "int main(){\n",
    "    \n",
    "    int N=5;\n",
    "\n",
    "    double *arreglo = (double *)calloc(N,sizeof(double));\n",
    "    \n",
    "    funcion_vector(arreglo,N);\n",
    "\n",
    "    printf(\"[ \");\n",
    "\n",
    "    for(int i = 0; i<N-1; i++){\n",
    "        printf(\"%lf, \", arreglo[i]);\n",
    "    }\n",
    "    printf(\"%lf ] \\n\", arreglo[N-1]);\n",
    "    free(arreglo);\n",
    "}"
   ]
  },
  {
   "cell_type": "code",
   "execution_count": 386,
   "metadata": {},
   "outputs": [
    {
     "name": "stdout",
     "output_type": "stream",
     "text": [
      "[ 2.000000, 2.250000, 2.370370, 2.441406, 2.488320 ] \n"
     ]
    }
   ],
   "source": [
    "! gcc euler2.c -o euler2 -lm\n",
    "!./euler2"
   ]
  },
  {
   "cell_type": "markdown",
   "metadata": {},
   "source": [
    "Cómo usar Ctypes, CON ARREGLOS\n",
    "\n",
    "1) Escribir la funcion en C, si es necesario usar, #include <math.h>, para pow\n",
    "2) Crear el archivo .so\n",
    "3) Para usarla en python:  \n",
    "    3.1) Cargar la biblioteca compartida con \"lib = ctypes.CDLL('./<NOMBREFUNCION.so')   \n",
    "    3.2) Especificamos los tipos de argumento de la funcion creada en C(funcion_nombre) y el tipo de retorno"
   ]
  },
  {
   "cell_type": "code",
   "execution_count": 396,
   "metadata": {},
   "outputs": [
    {
     "name": "stdout",
     "output_type": "stream",
     "text": [
      "Overwriting encontrar_pares.c\n"
     ]
    }
   ],
   "source": [
    "%%file encontrar_pares.c\n",
    "#include <math.h>\n",
    "#include <stdlib.h>\n",
    "\n",
    "// 1) Escribir la funcion en C\n",
    "\n",
    "void encontrar_pares(int* arreglo,int longArreglo,int* x,int* y,int* k){\n",
    "    int cantPares=0;\n",
    "    for(int i=0;i<longArreglo;i++){\n",
    "        for(int j=i+1;j<longArreglo;j++){\n",
    "            if(fabs(sqrt(1.0*arreglo[i]*arreglo[j])-trunc(sqrt(1.0*arreglo[i]*arreglo[j])))<0.0001){\n",
    "                \n",
    "                //Con esto está llenando los vectores x e y\n",
    "                x[cantPares]=arreglo[i];\n",
    "                y[cantPares]=arreglo[j];  \n",
    "                cantPares++;\n",
    "            }\n",
    "        }\n",
    "    }\n",
    "    *k=cantPares;\n",
    "}"
   ]
  },
  {
   "cell_type": "code",
   "execution_count": 399,
   "metadata": {},
   "outputs": [],
   "source": [
    "## 2) Alternativa para crear el archivo .so\n",
    "\n",
    "!gcc -c encontrar_pares.c\n",
    "\n",
    "!gcc -shared encontrar_pares.o -o encontrar_pares.so\n"
   ]
  },
  {
   "cell_type": "code",
   "execution_count": 2,
   "metadata": {},
   "outputs": [],
   "source": [
    "## 3) Cargamos biblioteca y definimos lo tipos de variable\n",
    "\n",
    "import ctypes\n",
    "import numpy as np\n",
    "\n",
    "def ctypes_encontrar_pares():\n",
    "    lib=ctypes.CDLL('./encontrar_pares.so')\n",
    "\n",
    "    lib.encontrar_pares.argtypes=[np.ctypeslib.ndpointer(dtype=np.int32),\n",
    "                                  ctypes.c_int,\n",
    "                                  np.ctypeslib.ndpointer(dtype=np.int32),\n",
    "                                  np.ctypeslib.ndpointer(dtype=np.int32),\n",
    "                                  np.ctypeslib.ndpointer(dtype=np.int32)]\n",
    "    return lib.encontrar_pares\n",
    "\n",
    "##VARIABLE TIPO INT     => ctypes.c_int\n",
    "##VARIABLE TIPO DOUBLE  => ctypes.c_double\n",
    "##ARREGLO TIPO INT       => np.ctypeslib.ndpointer(dtype = np.int32)\n",
    "##ARREGLO TIPO FLOAT     => np.ctypeslib.ndpointer(dtype = np.float32)\n",
    "##ARREGLO TIPO FLOAT     => np.ctypeslib.ndpointer(dtype = np.float64)\n",
    "##ARREGLO TIPO LONG LONG => np.ctypeslib.ndpointer(dtype = np.int64)\n",
    "\n",
    "\n",
    "##SI NO HAY SALIDA ALGO UN DATO ARREGLO NO SE PONE NADA\n",
    "##SALIDA TIPO LONG LONG => lib.moda_c.restype = ctypes.c_longlong\n",
    "\n",
    "\n",
    "#len es en python\n",
    "#sizeof es en c\n",
    "\n",
    "\n",
    "#arr_p= np.arange(10,20,1)\n",
    "#arr_p2=np.zeros(len(arr_p), dtype=int)\n",
    "\n",
    "#convierte algo en vector\n",
    "#arr_tst_rdy = np.array(arr_tst, dtype = np.int32)\n",
    "#La línea de código que has proporcionado se utiliza para crear un nuevo arreglo NumPy llamado arr_tst_rdy a partir de un arreglo existente \n",
    "#arr_tst, y se especifica que el tipo de datos del nuevo arreglo debe ser int32\n",
    "\n",
    "# arreglo= np.asarray(t_py)\n",
    "\n",
    "##Obtener la mediana de un vector:\n",
    "#c_median = statistics.median(time_c)\n"
   ]
  },
  {
   "cell_type": "code",
   "execution_count": null,
   "metadata": {},
   "outputs": [],
   "source": [
    "#arreglo en python\n",
    "#def median_arr(med,size):\n",
    "#   arr = []\n",
    "#    for i in range(size):\n",
    "#       arr.append(med)\n",
    "#   return arr"
   ]
  },
  {
   "cell_type": "markdown",
   "metadata": {},
   "source": []
  },
  {
   "cell_type": "markdown",
   "metadata": {},
   "source": [
    "█\n",
    "funcion en c recibe arreglo y lo modifica"
   ]
  },
  {
   "cell_type": "markdown",
   "metadata": {},
   "source": [
    "La línea de código np.asarray(t_py) se utiliza en Python con la biblioteca NumPy para convertir una secuencia iterable t_py en un arreglo NumPy"
   ]
  },
  {
   "cell_type": "markdown",
   "metadata": {},
   "source": []
  },
  {
   "cell_type": "markdown",
   "metadata": {},
   "source": []
  },
  {
   "cell_type": "markdown",
   "metadata": {},
   "source": []
  },
  {
   "cell_type": "markdown",
   "metadata": {},
   "source": []
  },
  {
   "cell_type": "markdown",
   "metadata": {},
   "source": []
  },
  {
   "cell_type": "markdown",
   "metadata": {},
   "source": []
  },
  {
   "cell_type": "markdown",
   "metadata": {},
   "source": []
  },
  {
   "cell_type": "markdown",
   "metadata": {},
   "source": []
  }
 ],
 "metadata": {
  "kernelspec": {
   "display_name": "Python 3",
   "language": "python",
   "name": "python3"
  },
  "language_info": {
   "codemirror_mode": {
    "name": "ipython",
    "version": 3
   },
   "file_extension": ".py",
   "mimetype": "text/x-python",
   "name": "python",
   "nbconvert_exporter": "python",
   "pygments_lexer": "ipython3",
   "version": "3.8.16"
  },
  "orig_nbformat": 4
 },
 "nbformat": 4,
 "nbformat_minor": 2
}
