{
  "nbformat": 4,
  "nbformat_minor": 0,
  "metadata": {
    "colab": {
      "provenance": []
    },
    "kernelspec": {
      "name": "python3",
      "display_name": "Python 3"
    },
    "language_info": {
      "name": "python"
    }
  },
  "cells": [
    {
      "cell_type": "markdown",
      "source": [
        "**Serie de taylor de e^x**"
      ],
      "metadata": {
        "id": "Tsr3X4N1rQqJ"
      }
    },
    {
      "cell_type": "code",
      "execution_count": 7,
      "metadata": {
        "colab": {
          "base_uri": "https://localhost:8080/"
        },
        "id": "zB6Se61tjylC",
        "outputId": "8b77dfa5-cf1a-4670-c803-d4f523440eab"
      },
      "outputs": [
        {
          "output_type": "execute_result",
          "data": {
            "text/plain": [
              "148.41315910257657"
            ]
          },
          "metadata": {},
          "execution_count": 7
        }
      ],
      "source": [
        "#Funcion con argumentos, angulo x y cantida dd terminos n\n",
        "\n",
        "def e_slow(x,n_terms):\n",
        "\n",
        "    suma=1\n",
        "    factorial=1\n",
        "    for i in range(1,n_terms):\n",
        "\n",
        "        factorial= factorial*i\n",
        "        denominador=factorial\n",
        "        numerador=x**(i)\n",
        "        termino= numerador/denominador\n",
        "        suma=suma + termino\n",
        "\n",
        "    return suma\n",
        "\n",
        "\n",
        "e_slow(5,100)\n",
        "\n",
        "\n"
      ]
    },
    {
      "cell_type": "code",
      "source": [
        "#Funcion con argumentos, pero dependencia de fn-1 sobre fn\n",
        "\n",
        "def e_fast(x,n_terms):\n",
        "\n",
        "    suma=1\n",
        "    termino=x\n",
        "    for i in range(1,n_terms):\n",
        "\n",
        "        termino=termino *(1/i)*x\n",
        "        suma= suma + termino\n",
        "    return suma\n",
        "\n",
        "e_slow(5,100)"
      ],
      "metadata": {
        "colab": {
          "base_uri": "https://localhost:8080/"
        },
        "id": "Pmsof0nEohpE",
        "outputId": "32a2b79a-a770-465f-9a8d-12403c6f2c2a"
      },
      "execution_count": 17,
      "outputs": [
        {
          "output_type": "execute_result",
          "data": {
            "text/plain": [
              "148.41315910257657"
            ]
          },
          "metadata": {},
          "execution_count": 17
        }
      ]
    },
    {
      "cell_type": "markdown",
      "source": [
        "**Serie de taylor de sin(x)**\n"
      ],
      "metadata": {
        "id": "d0B6AtHrrW7Y"
      }
    },
    {
      "cell_type": "code",
      "source": [
        "#Funcion con argumentos, angulo x y cantida dd terminos n\n",
        "def sin_taylor(x, n_terms):\n",
        "    suma = 0.0\n",
        "    numerador = x\n",
        "    denominador = 1.0\n",
        "    signo = 1.0\n",
        "\n",
        "    for i in range(n_terms):\n",
        "        termino = signo * (numerador / denominador)\n",
        "        suma += termino\n",
        "\n",
        "        numerador *= x * x\n",
        "        denominador *= (2 * i + 2) * (2 * i + 3)\n",
        "        signo = -signo\n",
        "\n",
        "    return suma\n",
        "\n",
        "# Ejemplo de uso:\n",
        "x = 1.57  # Ángulo en radianes\n",
        "n = 10    # Número de términos en la serie\n",
        "resultado = sin_taylor(x, n)\n",
        "print(\"Valor aproximado de sin(1.57) con\", n, \"términos:\", resultado)"
      ],
      "metadata": {
        "colab": {
          "base_uri": "https://localhost:8080/"
        },
        "id": "VqiqL9lDra05",
        "outputId": "2a9b1455-f164-4937-8143-7da2bab99bd5"
      },
      "execution_count": 43,
      "outputs": [
        {
          "output_type": "stream",
          "name": "stdout",
          "text": [
            "Valor aproximado de sin(1.57) con 10 términos: 0.9999996829318345\n"
          ]
        }
      ]
    },
    {
      "cell_type": "code",
      "source": [
        "def sin_taylor_fast(x, n_terms):\n",
        "    suma = x\n",
        "    termino = x\n",
        "    for i in range(2, n_terms + 1):\n",
        "        termino *= -x * x / ((2 * i - 1) * (2 * i - 2))\n",
        "        suma += termino\n",
        "    return suma\n",
        "\n",
        "# Ejemplo de uso:\n",
        "x = 1.57  # Ángulo en radianes\n",
        "n = 10    # Número de términos en la serie\n",
        "resultado = sin_taylor_fast(x, n)\n",
        "print(\"Valor aproximado de sin(1.57) con\", n, \"términos:\", resultado)"
      ],
      "metadata": {
        "colab": {
          "base_uri": "https://localhost:8080/"
        },
        "id": "flTVKQwzv0EE",
        "outputId": "cda2a53f-0a4d-473c-8672-89d1ae94c83f"
      },
      "execution_count": 40,
      "outputs": [
        {
          "output_type": "stream",
          "name": "stdout",
          "text": [
            "Valor aproximado de sin(1.57) con 10 términos: 0.9999996829318347\n"
          ]
        }
      ]
    },
    {
      "cell_type": "code",
      "source": [
        "#Coseno\n",
        "def cos_taylor(x, n_terms):\n",
        "    suma = 0.0\n",
        "    fact = 1.0\n",
        "    signo = 1.0\n",
        "    x_power = 1.0\n",
        "\n",
        "    for i in range(n_terms):\n",
        "        suma += signo * x_power / fact\n",
        "        signo *= -1.0\n",
        "        x_power *= x * x\n",
        "        fact *= (2 * i + 1) * (2 * i + 2)\n",
        "\n",
        "    return suma\n",
        "\n",
        "# Ejemplo de uso:\n",
        "x = 1.57  # Ángulo en radianes\n",
        "n = 10    # Número de términos en la serie\n",
        "resultado = cos_taylor(x, n)\n",
        "print(\"Valor aproximado de cos(1.57) con\", n, \"términos:\", resultado)"
      ],
      "metadata": {
        "colab": {
          "base_uri": "https://localhost:8080/"
        },
        "id": "zemhoQaQxh7J",
        "outputId": "fed32b0c-2529-4c28-c37f-45b504d0e6a3"
      },
      "execution_count": 45,
      "outputs": [
        {
          "output_type": "stream",
          "name": "stdout",
          "text": [
            "Valor aproximado de cos(1.57) con 10 términos: 0.0007963267107299064\n"
          ]
        }
      ]
    },
    {
      "cell_type": "code",
      "source": [
        "def cos_taylor_dependent(x, n_terms):\n",
        "    suma = 1.0\n",
        "    termino_anterior = 1.0\n",
        "\n",
        "    for i in range(1, n_terms):\n",
        "        termino_actual = -termino_anterior * (x**2) / ((2 * i) * (2 * i - 1))\n",
        "        suma += termino_actual\n",
        "        termino_anterior = termino_actual\n",
        "\n",
        "    return suma\n",
        "\n",
        "# Ejemplo de uso:\n",
        "x = 1.57  # Ángulo en radianes\n",
        "n = 10    # Número de términos en la serie\n",
        "resultado = cos_taylor_dependent(x, n)\n",
        "print(\"Valor aproximado de cos(1.57) con\", n, \"términos:\", resultado)"
      ],
      "metadata": {
        "colab": {
          "base_uri": "https://localhost:8080/"
        },
        "id": "Ss6iJ00Rx77P",
        "outputId": "d9648372-4363-4848-83c1-5d3fbf9fa789"
      },
      "execution_count": 46,
      "outputs": [
        {
          "output_type": "stream",
          "name": "stdout",
          "text": [
            "Valor aproximado de cos(1.57) con 10 términos: 0.0007963267107299031\n"
          ]
        }
      ]
    }
  ]
}